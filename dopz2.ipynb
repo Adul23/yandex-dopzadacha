import pandas as pd
import seaborn as sns
import matplotlib.pyplot as plt
from sklearn.linear_model import LinearRegression
from sklearn.model_selection import train_test_split
import numpy as np
from scipy.stats import shapiro

# markettime, market_money and market_file with "," as sep
dt_market_file = pd.read_csv('market_file.csv', sep=',', encoding='utf-8')
dt_market_money = pd.read_csv('market_money.csv', sep=',', encoding='utf-8')
dt_market_time = pd.read_csv('market_time.csv', sep=',', encoding='utf-8')
# money and forecast_chan with ";" as sep also forecast_chan with another encoding
dt_money = pd.read_csv('money.csv', sep=';', encoding='utf-8', decimal=',')
dt_forecast_chan = pd.read_csv('forecast_chan.csv', sep=';', decimal=',', encoding='cp1251')
# every column refactor to pep8
dt_market_file.columns = list(map(lambda x: x.lower().replace(' ', '_'), dt_market_file.columns))
dt_market_money.columns = list(map(lambda x: x.lower().replace(' ', '_'), dt_market_money.columns))
dt_market_time.columns = list(map(lambda x: x.lower().replace(' ', '_'), dt_market_time.columns))
dt_money.columns = list(map(lambda x: x.lower().replace(' ', '_'), dt_money))
# changed стандартт  to "стандарт" and "Косметика и аксесуары" to "Косметика и аксессуары" and "предыдущий"
dt_market_file['тип_сервиса'] = dt_market_file['тип_сервиса'].replace("стандартт", 'стандарт')
dt_market_file['популярная_категория'] = dt_market_file['популярная_категория'].replace("Косметика и аксесуары",
                                                                                        "Косметика и аксессуары")
dt_market_time['период'] = dt_market_time['период'].replace("предыдцщий_месяц", 'предыдущий_месяц')
dat1 = pd.merge(dt_forecast_chan, dt_market_file, on=['id'], how='outer')
dat2 = pd.merge(dt_money, dat1, on=['id'], how='outer')
prepre = []  # препредыдущий
pred = []  # предыдущий
tek = []  # текущий

for name, group in dt_market_money.groupby('id'):
    w = list(group['выручка'])
    prepre.append(w[0])
    pred.append(w[1])
    tek.append(w[2])

#dat3 = pd.DataFrame(col)
#print(dat3)# merged all csv files that we had


dat2['выручка_препредыдущий_месяц'] = prepre
dat2['выручка_предыдущий_месяц'] = pred
dat2['выручка_текущий_месяц'] = tek
pre = []
teku = []
for name, group in dt_market_time.groupby('id'):
    w = list(group['минут'])
    pre.append(w[0])
    teku.append(w[1])
dat2['минут_текущий'] = teku
dat2['минут_предыдущий'] = pre
dat2
fig, axes = plt.subplots(2, 2, figsize=(12, 6))

axes[0][0].pie(dat2.groupby(['популярная_категория'])[['выручка_текущий_месяц']].sum()['выручка_текущий_месяц'],
               autopct='%1.1f',
               labels=dat2['популярная_категория'].unique())
axes[0][0].set_title('выручка_текущий_месяц')
axes[0][1].pie(dat2.groupby(['популярная_категория'])[['выручка_предыдущий_месяц']].sum()['выручка_предыдущий_месяц'],
               autopct='%1.1f',
               labels=dat2['популярная_категория'].unique())
axes[0][1].set_title('выручка_предыдущий_месяц')
axes[1][0].pie(
    dat2.groupby(['популярная_категория'])[['выручка_препредыдущий_месяц']].sum()['выручка_препредыдущий_месяц'],
    autopct='%1.1f',
    labels=dat2['популярная_категория'].unique())
axes[1][0].set_title('выручка_препредыдущий_месяц')
fig.delaxes(axes[1, 1])
plt.tight_layout()
plt.show()
fig, axes = plt.subplots(2, 2, figsize=(12, 6))

kek = dt_market_money[dt_market_money['период'] == 'препредыдущий_месяц']
axes[0][1].scatter(kek['id'].values, kek['выручка'])
k = kek['выручка'].median()
axes[0][1].set_title(f'препредыдущий_месяц медиана = {k}')
kek = dt_market_money[dt_market_money['период'] == 'предыдущий_месяц']
axes[1][0].scatter(kek['id'].values, kek['выручка'])
k = kek['выручка'].median()
axes[1][0].set_title(f'предыдущий_месяц медиана = {k}')
kek = dt_market_money[dt_market_money['период'] == 'текущий_месяц']
k = kek['выручка'].median()
axes[1][1].scatter(kek['id'].values, kek['выручка'])
axes[1][1].set_title(f'текущий_месяц медиана = {k}')
fig.delaxes(axes[0, 0])
plt.tight_layout()
plt.show()
dat2.groupby('популярная_категория').sum()[
    ['выручка_текущий_месяц', 'выручка_предыдущий_месяц',
     'выручка_препредыдущий_месяц']]  # sum of revenue that came from different categories
# plotting the boxplot and the histogram  to check whether the data is normal 
def plotplot(name):
    fig, axes = plt.subplots(1, 2, figsize=(12, 6))
    k = dat2[name]
    plt.figure(figsize=(8, 6))
    axes[0].boxplot(k)
    axes[0].set_title('Boxplot of выручка_предыдущий_месяц')
    axes[1].hist(k, bins=20)
    plt.show()

plotplot('выручка_текущий_месяц')

plotplot('выручка_предыдущий_месяц')
plotplot('выручка_препредыдущий_месяц')
# outliers can be removed by quantile
k = dat2['выручка_текущий_месяц']
q1 = k.quantile(0.25)
q3 = k.quantile(0.75)


def rab(x):
    bound = x['выручка_текущий_месяц']
    if (bound > q1) and (bound < q3):
        return bound
    return np.median(dat2[dat2['id'] == x['id']][
                         ['выручка_текущий_месяц', 'выручка_предыдущий_месяц', 'выручка_препредыдущий_месяц']].values)


dat2['выручка_текущий_месяц'] = dat2.apply(rab, axis=1)


dat2.groupby('популярная_категория').sum()[
    ['выручка_текущий_месяц', 'выручка_предыдущий_месяц', 'выручка_препредыдущий_месяц']]
fig, axes = plt.subplots(2, 2, figsize=(12, 6))

axes[0][0].pie(dat2.groupby(['популярная_категория'])[['выручка_текущий_месяц']].sum()['выручка_текущий_месяц'],
               autopct='%1.1f',
               labels=dat2['популярная_категория'].unique())
axes[0][0].set_title('выручка_текущий_месяц')
axes[0][1].pie(dat2.groupby(['популярная_категория'])[['выручка_предыдущий_месяц']].sum()['выручка_предыдущий_месяц'],
               autopct='%1.1f',
               labels=dat2['популярная_категория'].unique())
axes[0][1].set_title('выручка_предыдущий_месяц')
axes[1][0].pie(
    dat2.groupby(['популярная_категория'])[['выручка_препредыдущий_месяц']].sum()['выручка_препредыдущий_месяц'],
    autopct='%1.1f',
    labels=dat2['популярная_категория'].unique())
axes[1][0].set_title('выручка_препредыдущий_месяц')
fig.delaxes(axes[1, 1])
plt.tight_layout()
plt.show()
import itertools
from scipy.stats import pearsonr, spearmanr

g = ['минут_текущий', "минут_предыдущий", 'выручка_текущий_месяц', 'выручка_предыдущий_месяц',
     'выручка_препредыдущий_месяц', 'прибыль', 'маркет_актив_6_мес', 'маркет_актив_тек_мес', 'длительность',
     'акционные_покупки', 'средний_просмотр_категорий_за_визит', 'неоплаченные_продукты_штук_квартал', 'ошибка_сервиса',
     'страниц_за_визит']


def norm(a1, a2):
    stat, p = shapiro(dat2[a1])
    stat2, p2 = shapiro(dat2[a2])
    return p > 0.05 and p2 > 0.05


def check(a1, a2):
    if norm(a1, a2):
        
        corr1 = pearsonr(dat2[a1], dat2[a2])
        return abs(corr1[1])
    else:
        corr1 = spearmanr(dat2[a1], dat2[a2])
        return abs(corr1[1])


kek = dict()
for i in itertools.combinations(g, 2):
    kek[i[0] + " " + i[1]] = (check(i[0], i[1]))
    if i[0] == 'длительность' or i[1] == 'длительность':
        print(i[0] + " " + i[1], check(i[0], i[1]))
max_corr_pair = max(kek, key=kek.get)
max_corr_pvalue = kek[max_corr_pair]
print(max_corr_pair, max_corr_pvalue) # max correlation is with выручка в препредыдущем and длительность
# выручка в препредыдущем и в текущем месяцах зависели от длительности
# длительность не зависит от ошибок сервиса и среднего просмотра категорий за визит
# check whether the data is normal
# Группа клиентов с высокой вероятностью снижения покупательской активности и наиболее высокой прибыльностью.
stat, p = shapiro(dat2['прибыль'])
stat2, p2 = shapiro(dat2['вероятность'])
plt.figure(figsize=(8, 6))
plt.boxplot(dat2['прибыль'])
plt.title('Boxplot of Revenue')
plt.figure(figsize=(8, 6))
plt.boxplot(dat2['вероятность'])
plt.title('Boxplot of Revenue')
plt.show()
# not a normal distribution, so correlation can be measured by correlation of Spearman
dat2[['прибыль', 'вероятность']].corr()
# take highest from 'вероятность' and 'выручка'
dat2[(dat2['вероятность'] > 0.9) & (dat2['прибыль'] > dat2['прибыль'].quantile(0.9))][
    ['прибыль', 'вероятность']].corr(method='spearman')
# it stayed the same
g = ['минут_текущий', "минут_предыдущий", 'выручка_текущий_месяц', 'выручка_предыдущий_месяц',
     'выручка_препредыдущий_месяц', 'прибыль', 'маркет_актив_6_мес', 'маркет_актив_тек_мес', 'длительность',
     'акционные_покупки', 'средний_просмотр_категорий_за_визит', 'неоплаченные_продукты_штук_квартал', 'ошибка_сервиса',
     'страниц_за_визит']
# фокус на отдельных количественных данных
kek = (pd.DataFrame(dat2[g].corr(method='spearman')))
kek
# Conclusion:  correlation between this two ('вероятность' and 'прибыль') is too weak so can not to rely on them.
